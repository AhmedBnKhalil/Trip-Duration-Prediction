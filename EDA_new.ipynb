{
 "cells": [
  {
   "cell_type": "code",
   "execution_count": 65,
   "id": "3234cbd0",
   "metadata": {},
   "outputs": [
    {
     "data": {
      "text/html": [
       "<style type='text/css'>\n",
       ".CodeMirror{\n",
       "font-size: 19px;\n",
       "font-family: Georgia, serif;\n",
       "</style>\n"
      ],
      "text/plain": [
       "<IPython.core.display.HTML object>"
      ]
     },
     "metadata": {},
     "output_type": "display_data"
    }
   ],
   "source": [
    "%%html\n",
    "<style type='text/css'>\n",
    ".CodeMirror{\n",
    "font-size: 19px;\n",
    "font-family: Georgia, serif;\n",
    "</style>"
   ]
  },
  {
   "cell_type": "markdown",
   "id": "e215dfe0",
   "metadata": {},
   "source": [
    "# Content\n",
    "* [The Problem](#problem)\n",
    "* [The Libraries](#libraries)\n",
    "* [The Data](#data)\n",
    "    * [Exploratinon](#data_1)\n",
    "        * [Structure](#data_1_1)\n",
    "        * [Summary](#data_1_2)\n",
    "    * [Prepration](#data_2)\n",
    "        * [Trip duration](#data_2_1)\n",
    "        * [Latitude and Longitude ](#data_2_2)\n",
    "        * [Datetime format](#data_2_3)\n",
    "    * [Visualization](#data_3)\n",
    "        * [Intial analysis ](#data_3_1)\n",
    "        * [distance and direction](#data_3_2)\n",
    "        * [Data transform](#data_3_3)"
   ]
  },
  {
   "cell_type": "markdown",
   "id": "ca7f4ccf",
   "metadata": {},
   "source": [
    "# The Problem <a class=\"anchor\" id=\"problem\"></a>"
   ]
  },
  {
   "cell_type": "markdown",
   "id": "9a774a2d",
   "metadata": {},
   "source": [
    "If you are going to meeting you need to be on time and thats the idea of the model is to predict the time you will need to move from point a to point b "
   ]
  },
  {
   "cell_type": "markdown",
   "id": "a8d067ed",
   "metadata": {},
   "source": [
    "# Installing,Importing required libraries <a class=\"anchor\" id=\"libraries\"></a>"
   ]
  },
  {
   "cell_type": "code",
   "execution_count": 66,
   "id": "d2ce5a73",
   "metadata": {},
   "outputs": [],
   "source": [
    "%matplotlib inline \n",
    "# the use of `%matplotlib inline`, allowing the display of graphs inline in iPython Notebook.\n",
    "import pandas as pd\n",
    "from datetime import datetime\n",
    "import pandas as pd\n",
    "from sklearn.model_selection import train_test_split\n",
    "from sklearn.linear_model import LinearRegression, Ridge,BayesianRidge\n",
    "from sklearn.cluster import MiniBatchKMeans\n",
    "from sklearn.metrics import mean_squared_error\n",
    "from math import radians, cos, sin, asin, sqrt\n",
    "import seaborn as sns\n",
    "import matplotlib\n",
    "import numpy as np\n",
    "import matplotlib.pyplot as plt\n",
    "plt.rcParams['figure.figsize'] = [16, 10]"
   ]
  },
  {
   "cell_type": "markdown",
   "id": "24af167b",
   "metadata": {},
   "source": [
    "# Loading the Data <a class=\"anchor\" id=\"data\"></a>\n",
    "## 1.1 Load the data using the Pandas `read_csv` function"
   ]
  },
  {
   "cell_type": "code",
   "execution_count": 67,
   "id": "b74ba486",
   "metadata": {},
   "outputs": [],
   "source": [
    "train = pd.read_csv('train.csv')\n",
    "val = pd.read_csv('val.csv')"
   ]
  },
  {
   "cell_type": "markdown",
   "id": "32c84061",
   "metadata": {},
   "source": [
    "## 1.2 Data Exploration <a class='anchor' id='data_1'></a>\n",
    "\n",
    "### 1.2.1 File structure <a class='anchor' id='data_1_1'></a>\n",
    "Let's start off by exploring the files we just imported, using Pandas `describe` function"
   ]
  },
  {
   "cell_type": "code",
   "execution_count": 68,
   "id": "625ee0ca",
   "metadata": {},
   "outputs": [
    {
     "data": {
      "text/html": [
       "<div>\n",
       "<style scoped>\n",
       "    .dataframe tbody tr th:only-of-type {\n",
       "        vertical-align: middle;\n",
       "    }\n",
       "\n",
       "    .dataframe tbody tr th {\n",
       "        vertical-align: top;\n",
       "    }\n",
       "\n",
       "    .dataframe thead th {\n",
       "        text-align: right;\n",
       "    }\n",
       "</style>\n",
       "<table border=\"1\" class=\"dataframe\">\n",
       "  <thead>\n",
       "    <tr style=\"text-align: right;\">\n",
       "      <th></th>\n",
       "      <th>id</th>\n",
       "      <th>vendor_id</th>\n",
       "      <th>pickup_datetime</th>\n",
       "      <th>dropoff_datetime</th>\n",
       "      <th>passenger_count</th>\n",
       "      <th>pickup_longitude</th>\n",
       "      <th>pickup_latitude</th>\n",
       "      <th>dropoff_longitude</th>\n",
       "      <th>dropoff_latitude</th>\n",
       "      <th>store_and_fwd_flag</th>\n",
       "      <th>trip_duration</th>\n",
       "    </tr>\n",
       "  </thead>\n",
       "  <tbody>\n",
       "    <tr>\n",
       "      <th>0</th>\n",
       "      <td>id2793718</td>\n",
       "      <td>2</td>\n",
       "      <td>2016-06-08 07:36:19</td>\n",
       "      <td>2016-06-08 07:53:39</td>\n",
       "      <td>1</td>\n",
       "      <td>-73.986</td>\n",
       "      <td>40.736</td>\n",
       "      <td>-73.980</td>\n",
       "      <td>40.760</td>\n",
       "      <td>N</td>\n",
       "      <td>1040</td>\n",
       "    </tr>\n",
       "    <tr>\n",
       "      <th>1</th>\n",
       "      <td>id3485529</td>\n",
       "      <td>2</td>\n",
       "      <td>2016-04-03 12:58:11</td>\n",
       "      <td>2016-04-03 13:11:58</td>\n",
       "      <td>1</td>\n",
       "      <td>-73.978</td>\n",
       "      <td>40.764</td>\n",
       "      <td>-73.992</td>\n",
       "      <td>40.750</td>\n",
       "      <td>N</td>\n",
       "      <td>827</td>\n",
       "    </tr>\n",
       "    <tr>\n",
       "      <th>2</th>\n",
       "      <td>id1816614</td>\n",
       "      <td>2</td>\n",
       "      <td>2016-06-05 02:49:13</td>\n",
       "      <td>2016-06-05 02:59:27</td>\n",
       "      <td>5</td>\n",
       "      <td>-73.989</td>\n",
       "      <td>40.744</td>\n",
       "      <td>-73.973</td>\n",
       "      <td>40.749</td>\n",
       "      <td>N</td>\n",
       "      <td>614</td>\n",
       "    </tr>\n",
       "    <tr>\n",
       "      <th>3</th>\n",
       "      <td>id1050851</td>\n",
       "      <td>2</td>\n",
       "      <td>2016-05-05 17:18:27</td>\n",
       "      <td>2016-05-05 17:32:54</td>\n",
       "      <td>2</td>\n",
       "      <td>-73.990</td>\n",
       "      <td>40.731</td>\n",
       "      <td>-73.991</td>\n",
       "      <td>40.749</td>\n",
       "      <td>N</td>\n",
       "      <td>867</td>\n",
       "    </tr>\n",
       "    <tr>\n",
       "      <th>4</th>\n",
       "      <td>id0140657</td>\n",
       "      <td>1</td>\n",
       "      <td>2016-05-12 17:43:38</td>\n",
       "      <td>2016-05-12 19:06:25</td>\n",
       "      <td>4</td>\n",
       "      <td>-73.789</td>\n",
       "      <td>40.647</td>\n",
       "      <td>-73.987</td>\n",
       "      <td>40.759</td>\n",
       "      <td>N</td>\n",
       "      <td>4967</td>\n",
       "    </tr>\n",
       "    <tr>\n",
       "      <th>...</th>\n",
       "      <td>...</td>\n",
       "      <td>...</td>\n",
       "      <td>...</td>\n",
       "      <td>...</td>\n",
       "      <td>...</td>\n",
       "      <td>...</td>\n",
       "      <td>...</td>\n",
       "      <td>...</td>\n",
       "      <td>...</td>\n",
       "      <td>...</td>\n",
       "      <td>...</td>\n",
       "    </tr>\n",
       "    <tr>\n",
       "      <th>999995</th>\n",
       "      <td>id2875371</td>\n",
       "      <td>2</td>\n",
       "      <td>2016-03-25 15:48:58</td>\n",
       "      <td>2016-03-25 15:53:12</td>\n",
       "      <td>1</td>\n",
       "      <td>-73.959</td>\n",
       "      <td>40.772</td>\n",
       "      <td>-73.954</td>\n",
       "      <td>40.786</td>\n",
       "      <td>N</td>\n",
       "      <td>254</td>\n",
       "    </tr>\n",
       "    <tr>\n",
       "      <th>999996</th>\n",
       "      <td>id1038420</td>\n",
       "      <td>2</td>\n",
       "      <td>2016-05-04 19:36:44</td>\n",
       "      <td>2016-05-04 19:43:58</td>\n",
       "      <td>1</td>\n",
       "      <td>-73.971</td>\n",
       "      <td>40.764</td>\n",
       "      <td>-73.956</td>\n",
       "      <td>40.778</td>\n",
       "      <td>N</td>\n",
       "      <td>434</td>\n",
       "    </tr>\n",
       "    <tr>\n",
       "      <th>999997</th>\n",
       "      <td>id3238884</td>\n",
       "      <td>2</td>\n",
       "      <td>2016-05-19 08:50:41</td>\n",
       "      <td>2016-05-19 09:12:27</td>\n",
       "      <td>2</td>\n",
       "      <td>-73.982</td>\n",
       "      <td>40.771</td>\n",
       "      <td>-73.971</td>\n",
       "      <td>40.759</td>\n",
       "      <td>N</td>\n",
       "      <td>1306</td>\n",
       "    </tr>\n",
       "    <tr>\n",
       "      <th>999998</th>\n",
       "      <td>id3652642</td>\n",
       "      <td>2</td>\n",
       "      <td>2016-04-04 14:37:59</td>\n",
       "      <td>2016-04-04 15:16:36</td>\n",
       "      <td>6</td>\n",
       "      <td>-73.983</td>\n",
       "      <td>40.766</td>\n",
       "      <td>-74.006</td>\n",
       "      <td>40.712</td>\n",
       "      <td>N</td>\n",
       "      <td>2317</td>\n",
       "    </tr>\n",
       "    <tr>\n",
       "      <th>999999</th>\n",
       "      <td>id0887693</td>\n",
       "      <td>2</td>\n",
       "      <td>2016-02-24 11:30:56</td>\n",
       "      <td>2016-02-24 11:51:03</td>\n",
       "      <td>1</td>\n",
       "      <td>-73.971</td>\n",
       "      <td>40.761</td>\n",
       "      <td>-73.992</td>\n",
       "      <td>40.735</td>\n",
       "      <td>N</td>\n",
       "      <td>1207</td>\n",
       "    </tr>\n",
       "  </tbody>\n",
       "</table>\n",
       "<p>1000000 rows × 11 columns</p>\n",
       "</div>"
      ],
      "text/plain": [
       "               id  vendor_id      pickup_datetime     dropoff_datetime  \\\n",
       "0       id2793718          2  2016-06-08 07:36:19  2016-06-08 07:53:39   \n",
       "1       id3485529          2  2016-04-03 12:58:11  2016-04-03 13:11:58   \n",
       "2       id1816614          2  2016-06-05 02:49:13  2016-06-05 02:59:27   \n",
       "3       id1050851          2  2016-05-05 17:18:27  2016-05-05 17:32:54   \n",
       "4       id0140657          1  2016-05-12 17:43:38  2016-05-12 19:06:25   \n",
       "...           ...        ...                  ...                  ...   \n",
       "999995  id2875371          2  2016-03-25 15:48:58  2016-03-25 15:53:12   \n",
       "999996  id1038420          2  2016-05-04 19:36:44  2016-05-04 19:43:58   \n",
       "999997  id3238884          2  2016-05-19 08:50:41  2016-05-19 09:12:27   \n",
       "999998  id3652642          2  2016-04-04 14:37:59  2016-04-04 15:16:36   \n",
       "999999  id0887693          2  2016-02-24 11:30:56  2016-02-24 11:51:03   \n",
       "\n",
       "        passenger_count  pickup_longitude  pickup_latitude  dropoff_longitude  \\\n",
       "0                     1           -73.986           40.736            -73.980   \n",
       "1                     1           -73.978           40.764            -73.992   \n",
       "2                     5           -73.989           40.744            -73.973   \n",
       "3                     2           -73.990           40.731            -73.991   \n",
       "4                     4           -73.789           40.647            -73.987   \n",
       "...                 ...               ...              ...                ...   \n",
       "999995                1           -73.959           40.772            -73.954   \n",
       "999996                1           -73.971           40.764            -73.956   \n",
       "999997                2           -73.982           40.771            -73.971   \n",
       "999998                6           -73.983           40.766            -74.006   \n",
       "999999                1           -73.971           40.761            -73.992   \n",
       "\n",
       "        dropoff_latitude store_and_fwd_flag  trip_duration  \n",
       "0                 40.760                  N           1040  \n",
       "1                 40.750                  N            827  \n",
       "2                 40.749                  N            614  \n",
       "3                 40.749                  N            867  \n",
       "4                 40.759                  N           4967  \n",
       "...                  ...                ...            ...  \n",
       "999995            40.786                  N            254  \n",
       "999996            40.778                  N            434  \n",
       "999997            40.759                  N           1306  \n",
       "999998            40.712                  N           2317  \n",
       "999999            40.735                  N           1207  \n",
       "\n",
       "[1000000 rows x 11 columns]"
      ]
     },
     "execution_count": 68,
     "metadata": {},
     "output_type": "execute_result"
    }
   ],
   "source": [
    "pd.set_option('display.float_format', lambda x: '%.3f' % x)\n",
    "train"
   ]
  },
  {
   "cell_type": "markdown",
   "id": "7e2bd3dc",
   "metadata": {},
   "source": [
    "### 1.2.2 Data Summary <a class='anchor' id='data_1_2'></a>"
   ]
  },
  {
   "cell_type": "code",
   "execution_count": 69,
   "id": "b4ccc8fa",
   "metadata": {},
   "outputs": [
    {
     "data": {
      "text/html": [
       "<div>\n",
       "<style scoped>\n",
       "    .dataframe tbody tr th:only-of-type {\n",
       "        vertical-align: middle;\n",
       "    }\n",
       "\n",
       "    .dataframe tbody tr th {\n",
       "        vertical-align: top;\n",
       "    }\n",
       "\n",
       "    .dataframe thead th {\n",
       "        text-align: right;\n",
       "    }\n",
       "</style>\n",
       "<table border=\"1\" class=\"dataframe\">\n",
       "  <thead>\n",
       "    <tr style=\"text-align: right;\">\n",
       "      <th></th>\n",
       "      <th>vendor_id</th>\n",
       "      <th>passenger_count</th>\n",
       "      <th>pickup_longitude</th>\n",
       "      <th>pickup_latitude</th>\n",
       "      <th>dropoff_longitude</th>\n",
       "      <th>dropoff_latitude</th>\n",
       "      <th>trip_duration</th>\n",
       "    </tr>\n",
       "  </thead>\n",
       "  <tbody>\n",
       "    <tr>\n",
       "      <th>count</th>\n",
       "      <td>1000000.000</td>\n",
       "      <td>1000000.000</td>\n",
       "      <td>1000000.000</td>\n",
       "      <td>1000000.000</td>\n",
       "      <td>1000000.000</td>\n",
       "      <td>1000000.000</td>\n",
       "      <td>1000000.000</td>\n",
       "    </tr>\n",
       "    <tr>\n",
       "      <th>mean</th>\n",
       "      <td>1.535</td>\n",
       "      <td>1.665</td>\n",
       "      <td>-73.973</td>\n",
       "      <td>40.751</td>\n",
       "      <td>-73.973</td>\n",
       "      <td>40.752</td>\n",
       "      <td>954.885</td>\n",
       "    </tr>\n",
       "    <tr>\n",
       "      <th>std</th>\n",
       "      <td>0.499</td>\n",
       "      <td>1.316</td>\n",
       "      <td>0.065</td>\n",
       "      <td>0.034</td>\n",
       "      <td>0.065</td>\n",
       "      <td>0.036</td>\n",
       "      <td>3882.070</td>\n",
       "    </tr>\n",
       "    <tr>\n",
       "      <th>min</th>\n",
       "      <td>1.000</td>\n",
       "      <td>0.000</td>\n",
       "      <td>-121.933</td>\n",
       "      <td>34.360</td>\n",
       "      <td>-121.933</td>\n",
       "      <td>34.360</td>\n",
       "      <td>1.000</td>\n",
       "    </tr>\n",
       "    <tr>\n",
       "      <th>25%</th>\n",
       "      <td>1.000</td>\n",
       "      <td>1.000</td>\n",
       "      <td>-73.992</td>\n",
       "      <td>40.737</td>\n",
       "      <td>-73.991</td>\n",
       "      <td>40.736</td>\n",
       "      <td>397.000</td>\n",
       "    </tr>\n",
       "    <tr>\n",
       "      <th>50%</th>\n",
       "      <td>2.000</td>\n",
       "      <td>1.000</td>\n",
       "      <td>-73.982</td>\n",
       "      <td>40.754</td>\n",
       "      <td>-73.980</td>\n",
       "      <td>40.755</td>\n",
       "      <td>662.000</td>\n",
       "    </tr>\n",
       "    <tr>\n",
       "      <th>75%</th>\n",
       "      <td>2.000</td>\n",
       "      <td>2.000</td>\n",
       "      <td>-73.967</td>\n",
       "      <td>40.768</td>\n",
       "      <td>-73.963</td>\n",
       "      <td>40.770</td>\n",
       "      <td>1074.000</td>\n",
       "    </tr>\n",
       "    <tr>\n",
       "      <th>max</th>\n",
       "      <td>2.000</td>\n",
       "      <td>7.000</td>\n",
       "      <td>-61.336</td>\n",
       "      <td>51.881</td>\n",
       "      <td>-61.336</td>\n",
       "      <td>43.921</td>\n",
       "      <td>2227612.000</td>\n",
       "    </tr>\n",
       "  </tbody>\n",
       "</table>\n",
       "</div>"
      ],
      "text/plain": [
       "        vendor_id  passenger_count  pickup_longitude  pickup_latitude  \\\n",
       "count 1000000.000      1000000.000       1000000.000      1000000.000   \n",
       "mean        1.535            1.665           -73.973           40.751   \n",
       "std         0.499            1.316             0.065            0.034   \n",
       "min         1.000            0.000          -121.933           34.360   \n",
       "25%         1.000            1.000           -73.992           40.737   \n",
       "50%         2.000            1.000           -73.982           40.754   \n",
       "75%         2.000            2.000           -73.967           40.768   \n",
       "max         2.000            7.000           -61.336           51.881   \n",
       "\n",
       "       dropoff_longitude  dropoff_latitude  trip_duration  \n",
       "count        1000000.000       1000000.000    1000000.000  \n",
       "mean             -73.973            40.752        954.885  \n",
       "std                0.065             0.036       3882.070  \n",
       "min             -121.933            34.360          1.000  \n",
       "25%              -73.991            40.736        397.000  \n",
       "50%              -73.980            40.755        662.000  \n",
       "75%              -73.963            40.770       1074.000  \n",
       "max              -61.336            43.921    2227612.000  "
      ]
     },
     "execution_count": 69,
     "metadata": {},
     "output_type": "execute_result"
    }
   ],
   "source": [
    "train.describe()"
   ]
  },
  {
   "cell_type": "markdown",
   "id": "b16da93b",
   "metadata": {},
   "source": [
    "if we look to the trip duration we will found that the min is 1 second and max is 2227612 == 618.7 hours and thats not logically"
   ]
  },
  {
   "cell_type": "markdown",
   "id": "b1747443",
   "metadata": {},
   "source": [
    "# 2. Data prepration <a class='anchor' id='data_2'></a>"
   ]
  },
  {
   "cell_type": "markdown",
   "id": "04ca19bd",
   "metadata": {},
   "source": [
    "We can from the `datetime` extract a lot of informations and see the insights of it, the traffic will diffrence from normal day and week end or seasons, and the seasons of the year is a big point if its winter and the ice fall the traffic will be very slow.\n",
    "\n",
    "Another big factor is the `passenger_count` the more it's increase ,the trip will be longer from physical view beacuse the vehicle will be heavy and maybe the passengers have diffrent drop points.\n",
    "\n",
    "Also with `vendor` and `store_and_fwd_flag`. It is possible that looking into it, we find that there's a difference between vendor 1 and vendor 2, and that either one of the two might be corrupting the \"shortest route information\" because the vendor's employees are less efficient in finding the best routes through New York. This, however, I also find highly unlikely, but it is an alternative to explore (at least look into it and rule it out difinitively). As for `store_and_fwd_flag` -  there is a strong correlation between slow trip times and server disconnects, it could be used as another feature in the training model to predict what time a particular route could take.\n",
    "\n",
    "And the most important one is the `_lattitude` and `_longitute` variables, can be used for find the distance and directions between coordinates."
   ]
  },
  {
   "cell_type": "markdown",
   "id": "95bfd7ac",
   "metadata": {},
   "source": [
    "## 2.1 Trip outliers clean <a class='anchor' id='data_2_1'></a>"
   ]
  },
  {
   "cell_type": "markdown",
   "id": "5279021c",
   "metadata": {},
   "source": [
    "As we find that there is an outliers that the min is 1 second and the max is 618 hours,\n",
    "so we need to clean that by using standard deviation from the mean."
   ]
  },
  {
   "cell_type": "code",
   "execution_count": 70,
   "id": "fb18f403",
   "metadata": {},
   "outputs": [],
   "source": [
    "m = np.mean(train['trip_duration'])\n",
    "s = np.std(train['trip_duration'])\n",
    "train = train[train['trip_duration'] <= m + 2*s]\n",
    "train = train[train['trip_duration'] >= m - 2*s]"
   ]
  },
  {
   "cell_type": "code",
   "execution_count": 71,
   "id": "310fb2db",
   "metadata": {},
   "outputs": [
    {
     "data": {
      "text/html": [
       "<div>\n",
       "<style scoped>\n",
       "    .dataframe tbody tr th:only-of-type {\n",
       "        vertical-align: middle;\n",
       "    }\n",
       "\n",
       "    .dataframe tbody tr th {\n",
       "        vertical-align: top;\n",
       "    }\n",
       "\n",
       "    .dataframe thead th {\n",
       "        text-align: right;\n",
       "    }\n",
       "</style>\n",
       "<table border=\"1\" class=\"dataframe\">\n",
       "  <thead>\n",
       "    <tr style=\"text-align: right;\">\n",
       "      <th></th>\n",
       "      <th>id</th>\n",
       "      <th>vendor_id</th>\n",
       "      <th>pickup_datetime</th>\n",
       "      <th>dropoff_datetime</th>\n",
       "      <th>passenger_count</th>\n",
       "      <th>pickup_longitude</th>\n",
       "      <th>pickup_latitude</th>\n",
       "      <th>dropoff_longitude</th>\n",
       "      <th>dropoff_latitude</th>\n",
       "      <th>store_and_fwd_flag</th>\n",
       "      <th>trip_duration</th>\n",
       "    </tr>\n",
       "  </thead>\n",
       "  <tbody>\n",
       "    <tr>\n",
       "      <th>890796</th>\n",
       "      <td>id3928085</td>\n",
       "      <td>1</td>\n",
       "      <td>2016-05-15 10:16:55</td>\n",
       "      <td>2016-05-15 12:40:03</td>\n",
       "      <td>2</td>\n",
       "      <td>-73.777</td>\n",
       "      <td>40.645</td>\n",
       "      <td>-73.865</td>\n",
       "      <td>40.770</td>\n",
       "      <td>N</td>\n",
       "      <td>8588</td>\n",
       "    </tr>\n",
       "    <tr>\n",
       "      <th>257772</th>\n",
       "      <td>id2291596</td>\n",
       "      <td>2</td>\n",
       "      <td>2016-06-15 16:33:21</td>\n",
       "      <td>2016-06-15 18:55:44</td>\n",
       "      <td>1</td>\n",
       "      <td>-73.789</td>\n",
       "      <td>40.643</td>\n",
       "      <td>-73.790</td>\n",
       "      <td>40.647</td>\n",
       "      <td>N</td>\n",
       "      <td>8543</td>\n",
       "    </tr>\n",
       "    <tr>\n",
       "      <th>83571</th>\n",
       "      <td>id3360908</td>\n",
       "      <td>1</td>\n",
       "      <td>2016-04-12 09:27:03</td>\n",
       "      <td>2016-04-12 11:49:25</td>\n",
       "      <td>1</td>\n",
       "      <td>-73.951</td>\n",
       "      <td>40.775</td>\n",
       "      <td>-73.960</td>\n",
       "      <td>40.760</td>\n",
       "      <td>N</td>\n",
       "      <td>8542</td>\n",
       "    </tr>\n",
       "    <tr>\n",
       "      <th>909132</th>\n",
       "      <td>id1121160</td>\n",
       "      <td>2</td>\n",
       "      <td>2016-05-18 13:42:12</td>\n",
       "      <td>2016-05-18 16:04:14</td>\n",
       "      <td>1</td>\n",
       "      <td>-74.004</td>\n",
       "      <td>40.742</td>\n",
       "      <td>-73.871</td>\n",
       "      <td>40.774</td>\n",
       "      <td>N</td>\n",
       "      <td>8522</td>\n",
       "    </tr>\n",
       "    <tr>\n",
       "      <th>672121</th>\n",
       "      <td>id1495760</td>\n",
       "      <td>1</td>\n",
       "      <td>2016-02-29 16:47:15</td>\n",
       "      <td>2016-02-29 19:08:51</td>\n",
       "      <td>1</td>\n",
       "      <td>-73.973</td>\n",
       "      <td>40.744</td>\n",
       "      <td>-73.972</td>\n",
       "      <td>40.743</td>\n",
       "      <td>N</td>\n",
       "      <td>8496</td>\n",
       "    </tr>\n",
       "    <tr>\n",
       "      <th>...</th>\n",
       "      <td>...</td>\n",
       "      <td>...</td>\n",
       "      <td>...</td>\n",
       "      <td>...</td>\n",
       "      <td>...</td>\n",
       "      <td>...</td>\n",
       "      <td>...</td>\n",
       "      <td>...</td>\n",
       "      <td>...</td>\n",
       "      <td>...</td>\n",
       "      <td>...</td>\n",
       "    </tr>\n",
       "    <tr>\n",
       "      <th>567376</th>\n",
       "      <td>id3686648</td>\n",
       "      <td>1</td>\n",
       "      <td>2016-01-29 11:18:55</td>\n",
       "      <td>2016-01-29 11:18:56</td>\n",
       "      <td>1</td>\n",
       "      <td>-73.972</td>\n",
       "      <td>40.750</td>\n",
       "      <td>-73.972</td>\n",
       "      <td>40.750</td>\n",
       "      <td>N</td>\n",
       "      <td>1</td>\n",
       "    </tr>\n",
       "    <tr>\n",
       "      <th>309506</th>\n",
       "      <td>id1520236</td>\n",
       "      <td>1</td>\n",
       "      <td>2016-05-17 09:03:38</td>\n",
       "      <td>2016-05-17 09:03:39</td>\n",
       "      <td>1</td>\n",
       "      <td>-73.820</td>\n",
       "      <td>40.741</td>\n",
       "      <td>-73.820</td>\n",
       "      <td>40.741</td>\n",
       "      <td>N</td>\n",
       "      <td>1</td>\n",
       "    </tr>\n",
       "    <tr>\n",
       "      <th>117872</th>\n",
       "      <td>id2959956</td>\n",
       "      <td>1</td>\n",
       "      <td>2016-02-25 04:26:50</td>\n",
       "      <td>2016-02-25 04:26:51</td>\n",
       "      <td>1</td>\n",
       "      <td>-73.806</td>\n",
       "      <td>40.660</td>\n",
       "      <td>-73.806</td>\n",
       "      <td>40.660</td>\n",
       "      <td>N</td>\n",
       "      <td>1</td>\n",
       "    </tr>\n",
       "    <tr>\n",
       "      <th>535096</th>\n",
       "      <td>id2517984</td>\n",
       "      <td>1</td>\n",
       "      <td>2016-01-09 00:28:55</td>\n",
       "      <td>2016-01-09 00:28:56</td>\n",
       "      <td>1</td>\n",
       "      <td>-73.862</td>\n",
       "      <td>40.769</td>\n",
       "      <td>-73.862</td>\n",
       "      <td>40.769</td>\n",
       "      <td>N</td>\n",
       "      <td>1</td>\n",
       "    </tr>\n",
       "    <tr>\n",
       "      <th>453131</th>\n",
       "      <td>id1171557</td>\n",
       "      <td>1</td>\n",
       "      <td>2016-02-10 16:33:43</td>\n",
       "      <td>2016-02-10 16:33:44</td>\n",
       "      <td>1</td>\n",
       "      <td>-73.777</td>\n",
       "      <td>40.646</td>\n",
       "      <td>-73.777</td>\n",
       "      <td>40.646</td>\n",
       "      <td>N</td>\n",
       "      <td>1</td>\n",
       "    </tr>\n",
       "  </tbody>\n",
       "</table>\n",
       "<p>998518 rows × 11 columns</p>\n",
       "</div>"
      ],
      "text/plain": [
       "               id  vendor_id      pickup_datetime     dropoff_datetime  \\\n",
       "890796  id3928085          1  2016-05-15 10:16:55  2016-05-15 12:40:03   \n",
       "257772  id2291596          2  2016-06-15 16:33:21  2016-06-15 18:55:44   \n",
       "83571   id3360908          1  2016-04-12 09:27:03  2016-04-12 11:49:25   \n",
       "909132  id1121160          2  2016-05-18 13:42:12  2016-05-18 16:04:14   \n",
       "672121  id1495760          1  2016-02-29 16:47:15  2016-02-29 19:08:51   \n",
       "...           ...        ...                  ...                  ...   \n",
       "567376  id3686648          1  2016-01-29 11:18:55  2016-01-29 11:18:56   \n",
       "309506  id1520236          1  2016-05-17 09:03:38  2016-05-17 09:03:39   \n",
       "117872  id2959956          1  2016-02-25 04:26:50  2016-02-25 04:26:51   \n",
       "535096  id2517984          1  2016-01-09 00:28:55  2016-01-09 00:28:56   \n",
       "453131  id1171557          1  2016-02-10 16:33:43  2016-02-10 16:33:44   \n",
       "\n",
       "        passenger_count  pickup_longitude  pickup_latitude  dropoff_longitude  \\\n",
       "890796                2           -73.777           40.645            -73.865   \n",
       "257772                1           -73.789           40.643            -73.790   \n",
       "83571                 1           -73.951           40.775            -73.960   \n",
       "909132                1           -74.004           40.742            -73.871   \n",
       "672121                1           -73.973           40.744            -73.972   \n",
       "...                 ...               ...              ...                ...   \n",
       "567376                1           -73.972           40.750            -73.972   \n",
       "309506                1           -73.820           40.741            -73.820   \n",
       "117872                1           -73.806           40.660            -73.806   \n",
       "535096                1           -73.862           40.769            -73.862   \n",
       "453131                1           -73.777           40.646            -73.777   \n",
       "\n",
       "        dropoff_latitude store_and_fwd_flag  trip_duration  \n",
       "890796            40.770                  N           8588  \n",
       "257772            40.647                  N           8543  \n",
       "83571             40.760                  N           8542  \n",
       "909132            40.774                  N           8522  \n",
       "672121            40.743                  N           8496  \n",
       "...                  ...                ...            ...  \n",
       "567376            40.750                  N              1  \n",
       "309506            40.741                  N              1  \n",
       "117872            40.660                  N              1  \n",
       "535096            40.769                  N              1  \n",
       "453131            40.646                  N              1  \n",
       "\n",
       "[998518 rows x 11 columns]"
      ]
     },
     "execution_count": 71,
     "metadata": {},
     "output_type": "execute_result"
    }
   ],
   "source": [
    "train.sort_values(by=['trip_duration'],ascending=False)"
   ]
  },
  {
   "cell_type": "markdown",
   "id": "12423287",
   "metadata": {},
   "source": [
    "## 2.2 Latitude and Longitude Clean-up <a class='anchor' id='data_2_2'></a>"
   ]
  },
  {
   "cell_type": "markdown",
   "id": "1d7e939c",
   "metadata": {},
   "source": [
    "By searching google we will find that the coordinates of New York is: \n",
    "\n",
    "city_long_border = (-74.03, -73.75)\n",
    "city_lat_border = (40.63, 40.85)\n",
    "\n",
    "Comparing this to our `train.describe()` output we see that there are some coordinate points that outside New York, So we needs to clean that from the data."
   ]
  },
  {
   "cell_type": "code",
   "execution_count": 72,
   "id": "86c90c3a",
   "metadata": {},
   "outputs": [],
   "source": [
    "train = train[train['pickup_longitude'] <= -73.75]\n",
    "train = train[train['pickup_longitude'] >= -74.03]\n",
    "train = train[train['pickup_latitude'] <= 40.85]\n",
    "train = train[train['pickup_latitude'] >= 40.63]\n",
    "train = train[train['dropoff_longitude'] <= -73.75]\n",
    "train = train[train['dropoff_longitude'] >= -74.03]\n",
    "train = train[train['dropoff_latitude'] <= 40.85]\n",
    "train = train[train['dropoff_latitude'] >= 40.63]"
   ]
  },
  {
   "cell_type": "markdown",
   "id": "f5180f40",
   "metadata": {},
   "source": [
    "## 2.3 Datetime format <a class='anchor' id ='data_2_3'></a>"
   ]
  },
  {
   "cell_type": "markdown",
   "id": "60fed618",
   "metadata": {},
   "source": [
    "We just will change the format to be datetime rather than string to be applicable to work with it"
   ]
  },
  {
   "cell_type": "code",
   "execution_count": 73,
   "id": "a44b0c1c",
   "metadata": {},
   "outputs": [],
   "source": [
    "train['pickup_datetime'] = pd.to_datetime(train.pickup_datetime)\n",
    "val['pickup_datetime'] = pd.to_datetime(val.pickup_datetime)\n",
    "train.loc[:, 'pickup_date'] = train['pickup_datetime'].dt.date\n",
    "val.loc[:, 'pickup_date'] = val['pickup_datetime'].dt.date\n",
    "train['dropoff_datetime'] = pd.to_datetime(train.dropoff_datetime) \n",
    "val['dropoff_datetime'] = pd.to_datetime(val.dropoff_datetime) "
   ]
  },
  {
   "cell_type": "markdown",
   "id": "85db16e8",
   "metadata": {},
   "source": [
    "# 3. Data Visualisation and Analysis <a class='anchor' id='data_3'></a>\n",
    "The next step is to visualise the data, it's easier to extract relation from graph than a table.\n",
    "## 3.1 Initial Analysis <a class='anchor' id='data_3_1'></a>\n",
    "we will plot a histogram of `trip_duration`, splitting the data to 200 bins."
   ]
  },
  {
   "cell_type": "code",
   "execution_count": 74,
   "id": "d023f759",
   "metadata": {
    "scrolled": false
   },
   "outputs": [
    {
     "data": {
      "image/png": "[encoded data removed]",
      "text/plain": [
       "<Figure size 1600x1000 with 1 Axes>"
      ]
     },
     "metadata": {},
     "output_type": "display_data"
    }
   ],
   "source": [
    "plt.hist(train['trip_duration'].values, bins=200)\n",
    "plt.xlabel('trip_duration')\n",
    "plt.ylabel('number of train records')\n",
    "plt.grid()\n",
    "plt.show()"
   ]
  },
  {
   "cell_type": "markdown",
   "id": "192d0350",
   "metadata": {},
   "source": [
    "we will apply a log transformation to the `trip_duration`, since we are doing this to accommodate the leaderboard's scoring metric."
   ]
  },
  {
   "cell_type": "code",
   "execution_count": 75,
   "id": "d8e7e153",
   "metadata": {},
   "outputs": [
    {
     "data": {
      "text/plain": [
       "<Axes: xlabel='log_trip_duration', ylabel='Count'>"
      ]
     },
     "execution_count": 75,
     "metadata": {},
     "output_type": "execute_result"
    },
    {
     "data": {
      "image/png": "[encoded data removed]",
      "text/plain": [
       "<Figure size 1600x1000 with 1 Axes>"
      ]
     },
     "metadata": {},
     "output_type": "display_data"
    }
   ],
   "source": [
    "train['log_trip_duration'] = np.log(train['trip_duration'].values + 1)\n",
    "val['log_trip_duration'] = np.log(val['trip_duration'].values + 1)\n",
    "\n",
    "sns.set_style(\"whitegrid\")\n",
    "sns.histplot(train[\"log_trip_duration\"], bins =200,kde=True)"
   ]
  },
  {
   "cell_type": "markdown",
   "id": "5a6e82d6",
   "metadata": {},
   "source": [
    "Another intersted one is to view the trips over time since this could reveal apparent seasonality in the data and certain trends,\n",
    "\n",
    "So we will do a timeseries plot for the train and val datasets to see the possible trends and to check if the pattern of both is the same "
   ]
  },
  {
   "cell_type": "code",
   "execution_count": 76,
   "id": "5fe342cd",
   "metadata": {},
   "outputs": [
    {
     "data": {
      "image/png": "[encoded data removed]",
      "text/plain": [
       "<Figure size 1600x1000 with 1 Axes>"
      ]
     },
     "metadata": {},
     "output_type": "display_data"
    }
   ],
   "source": [
    "plt.plot(train.groupby('pickup_date').count()[['id']], 'o-', label='train')\n",
    "plt.plot(val.groupby('pickup_date').count()[['id']], 'o-', label='test')\n",
    "plt.title('Trips over Time.')\n",
    "plt.legend(loc=0)\n",
    "plt.ylabel('Trips')\n",
    "plt.grid()\n",
    "plt.show()"
   ]
  },
  {
   "cell_type": "markdown",
   "id": "1de06c0a",
   "metadata": {},
   "source": [
    "It's clear that the two datasets is the same pattern but the val is more narrow beacuse it's smaller,\n",
    "we can notice that there is a drop of the trips in the end of January, and there is another drop but smaller in late of May.\n",
    "The first drop because of the winter season, \n",
    "The temps are between 18–23 °F (−7 to −5 °C).  (the same temp of our freezer)\n",
    "\n",
    "Now let's the different between the two vendors"
   ]
  },
  {
   "cell_type": "code",
   "execution_count": 77,
   "id": "e256b542",
   "metadata": {},
   "outputs": [
    {
     "data": {
      "image/png": "[encoded data removed]",
      "text/plain": [
       "<Figure size 1600x1000 with 1 Axes>"
      ]
     },
     "metadata": {},
     "output_type": "display_data"
    }
   ],
   "source": [
    "import warnings\n",
    "warnings.filterwarnings(\"ignore\")\n",
    "plot_vendor = train.groupby('vendor_id')['trip_duration'].mean()\n",
    "plt.ylim(ymin=800)\n",
    "plt.ylim(ymax=840)\n",
    "plt.title('Time per Vendor')\n",
    "plt.ylabel('Time in Seconds')\n",
    "\n",
    "ax = sns.barplot(x=plot_vendor.index, y=plot_vendor.values)\n",
    "\n",
    "for index, value in enumerate(plot_vendor.values):\n",
    "    ax.text(index, value, str(round(value, 2)), ha='center', va='bottom')\n",
    "plt.show()\n"
   ]
  },
  {
   "cell_type": "markdown",
   "id": "7c343f5b",
   "metadata": {},
   "source": [
    "The graph showing that the difference between the two vendors is nearly 10 seconds and that's not too much"
   ]
  },
  {
   "cell_type": "code",
   "execution_count": 78,
   "id": "82db07cd",
   "metadata": {},
   "outputs": [
    {
     "data": {
      "image/png": "[encoded data removed]",
      "text/plain": [
       "<Figure size 1700x1000 with 1 Axes>"
      ]
     },
     "metadata": {},
     "output_type": "display_data"
    }
   ],
   "source": [
    "snwflag = train.groupby('store_and_fwd_flag')['trip_duration'].mean()\n",
    "\n",
    "plt.subplots(1, 1, figsize=(17, 10))\n",
    "plt.ylim(ymin=0)\n",
    "plt.ylim(ymax=1100)\n",
    "plt.title('Time per store_and_fwd_flag')\n",
    "plt.ylabel('Time in Seconds')\n",
    "\n",
    "# Plot the bar plot using Seaborn and get the axis object (ax)\n",
    "ax = sns.barplot(x=snwflag.index, y=snwflag.values)\n",
    "\n",
    "# Annotate each bar with the number of occurrences\n",
    "for index, value in enumerate(snwflag.values):\n",
    "    ax.text(index, value, str(round(value, 2)), ha='center', va='bottom')\n",
    "\n",
    "plt.show()\n"
   ]
  },
  {
   "cell_type": "markdown",
   "id": "f9880ad6",
   "metadata": {},
   "source": [
    "Here the difference is big, maybe this because one of the vendors didn't record accurately"
   ]
  },
  {
   "cell_type": "markdown",
   "id": "1a44a221",
   "metadata": {},
   "source": [
    "## 3.2 Distance and Direction <a class='anchor' id='data_3_2'></a>"
   ]
  },
  {
   "cell_type": "code",
   "execution_count": 79,
   "id": "b7260e61",
   "metadata": {},
   "outputs": [],
   "source": [
    "def haversine_array(lat1, lng1, lat2, lng2):\n",
    "    lat1, lng1, lat2, lng2 = map(np.radians, (lat1, lng1, lat2, lng2))\n",
    "    AVG_EARTH_RADIUS = 6371  # in km\n",
    "    lat = lat2 - lat1\n",
    "    lng = lng2 - lng1\n",
    "    d = np.sin(lat * 0.5) ** 2 + np.cos(lat1) * np.cos(lat2) * np.sin(lng * 0.5) ** 2\n",
    "    h = 2 * AVG_EARTH_RADIUS * np.arcsin(np.sqrt(d))\n",
    "    return h\n",
    "\n",
    "def dummy_manhattan_distance(lat1, lng1, lat2, lng2):\n",
    "    a = haversine_array(lat1, lng1, lat1, lng2)\n",
    "    b = haversine_array(lat1, lng1, lat2, lng1)\n",
    "    return a + b\n",
    "\n",
    "def bearing_array(lat1, lng1, lat2, lng2):\n",
    "    AVG_EARTH_RADIUS = 6371  # in km\n",
    "    lng_delta_rad = np.radians(lng2 - lng1)\n",
    "    lat1, lng1, lat2, lng2 = map(np.radians, (lat1, lng1, lat2, lng2))\n",
    "    y = np.sin(lng_delta_rad) * np.cos(lat2)\n",
    "    x = np.cos(lat1) * np.sin(lat2) - np.sin(lat1) * np.cos(lat2) * np.cos(lng_delta_rad)\n",
    "    return np.degrees(np.arctan2(y, x))"
   ]
  },
  {
   "cell_type": "markdown",
   "id": "23f46d90",
   "metadata": {},
   "source": [
    "The function `haversine_array` calculates the Haversine distance between two sets of latitude and longitude coordinates. The Haversine formula is used to compute the distance between two points on a sphere (such as the Earth) given their latitude and longitude.\n",
    "\n",
    "The function `dummy_manhattan_distance` calculates the \"dummy\" Manhattan distance between two sets of latitude and longitude coordinates. This distance is not the actual Manhattan distance, but a simplified version that approximates the Manhattan distance using the Haversine formula.\n",
    "\n",
    "The `bearing_array` function will compute the dirrection between the two points and return the result in degrees."
   ]
  },
  {
   "cell_type": "code",
   "execution_count": 80,
   "id": "ed2b4c47",
   "metadata": {},
   "outputs": [],
   "source": [
    "train.loc[:, 'distance_haversine'] = haversine_array(train['pickup_latitude'].values, train['pickup_longitude'].values, train['dropoff_latitude'].values, train['dropoff_longitude'].values)\n",
    "val.loc[:, 'distance_haversine'] = haversine_array(val['pickup_latitude'].values, val['pickup_longitude'].values, val['dropoff_latitude'].values, val['dropoff_longitude'].values)    \n",
    "    \n",
    "train.loc[:, 'distance_dummy_manhattan'] =  dummy_manhattan_distance(train['pickup_latitude'].values, train['pickup_longitude'].values, train['dropoff_latitude'].values, train['dropoff_longitude'].values)\n",
    "val.loc[:, 'distance_dummy_manhattan'] =  dummy_manhattan_distance(val['pickup_latitude'].values, val['pickup_longitude'].values, val['dropoff_latitude'].values, val['dropoff_longitude'].values)\n",
    "\n",
    "train.loc[:, 'direction'] = bearing_array(train['pickup_latitude'].values, train['pickup_longitude'].values, train['dropoff_latitude'].values, train['dropoff_longitude'].values)\n",
    "val.loc[:, 'direction'] = bearing_array(val['pickup_latitude'].values, val['pickup_longitude'].values, val['dropoff_latitude'].values, val['dropoff_longitude'].values)"
   ]
  },
  {
   "cell_type": "markdown",
   "id": "1a93999e",
   "metadata": {},
   "source": [
    "now we inserted the new colomns to the datasets"
   ]
  },
  {
   "cell_type": "markdown",
   "id": "8544ca84",
   "metadata": {},
   "source": [
    "## 3.3 Data transform <a class='anchor' id='data_3_3'></a>\n",
    "now we will extract the data from the datetime colomns the on hot encode it to make it easier for the model to understand it"
   ]
  },
  {
   "cell_type": "code",
   "execution_count": 81,
   "id": "6b0b05a8",
   "metadata": {},
   "outputs": [],
   "source": [
    "train['month']=train['pickup_datetime'].dt.month\n",
    "val['month']=val['pickup_datetime'].dt.month\n",
    "\n",
    "train['DayofMonth']=train['pickup_datetime'].dt.day\n",
    "val['DayofMonth']=val['pickup_datetime'].dt.day\n",
    "\n",
    "train['Hour']=train['pickup_datetime'].dt.hour\n",
    "val['Hour']=val['pickup_datetime'].dt.hour\n",
    "\n",
    "train['dayofweek']=train['pickup_datetime'].dt.dayofweek\n",
    "val['dayofweek']=val['pickup_datetime'].dt.dayofweek"
   ]
  },
  {
   "cell_type": "code",
   "execution_count": 82,
   "id": "9825d6ad",
   "metadata": {},
   "outputs": [
    {
     "data": {
      "text/plain": [
       "(6, 6)"
      ]
     },
     "execution_count": 82,
     "metadata": {},
     "output_type": "execute_result"
    }
   ],
   "source": [
    "len(train.groupby(\"month\").size()),len(val.groupby('month').size())"
   ]
  },
  {
   "cell_type": "markdown",
   "id": "a6810fbf",
   "metadata": {},
   "source": [
    "The two datasets have 6 months so we can encode it without any problem"
   ]
  },
  {
   "cell_type": "code",
   "execution_count": 83,
   "id": "9adebc49",
   "metadata": {},
   "outputs": [
    {
     "data": {
      "text/plain": [
       "(31, 31)"
      ]
     },
     "execution_count": 83,
     "metadata": {},
     "output_type": "execute_result"
    }
   ],
   "source": [
    "len(train.groupby('DayofMonth').size()),len(val.groupby('DayofMonth').size())"
   ]
  },
  {
   "cell_type": "markdown",
   "id": "5a7507db",
   "metadata": {},
   "source": [
    "The two datasets have 31 days"
   ]
  },
  {
   "cell_type": "code",
   "execution_count": 84,
   "id": "b554b455",
   "metadata": {},
   "outputs": [
    {
     "data": {
      "text/plain": [
       "(24, 24)"
      ]
     },
     "execution_count": 84,
     "metadata": {},
     "output_type": "execute_result"
    }
   ],
   "source": [
    "len(train.groupby('Hour').size()),len(val.groupby('Hour').size())"
   ]
  },
  {
   "cell_type": "markdown",
   "id": "a8478511",
   "metadata": {},
   "source": [
    "The two datasets have 24 hours"
   ]
  },
  {
   "cell_type": "code",
   "execution_count": 85,
   "id": "b01d2e76",
   "metadata": {},
   "outputs": [
    {
     "data": {
      "text/plain": [
       "(7, 7)"
      ]
     },
     "execution_count": 85,
     "metadata": {},
     "output_type": "execute_result"
    }
   ],
   "source": [
    "len(train.groupby('dayofweek').size()),len(val.groupby('dayofweek').size())"
   ]
  },
  {
   "cell_type": "markdown",
   "id": "33ff6ea6",
   "metadata": {},
   "source": [
    "The two datasets have 7 days"
   ]
  },
  {
   "cell_type": "markdown",
   "id": "57f72c97",
   "metadata": {},
   "source": [
    "## 3.4 Creating Dummy Variables <a class='anchor' id='data_3_4'></a>\n",
    "So for this step we get to the one hot encoding we spoke of earlier."
   ]
  },
  {
   "cell_type": "code",
   "execution_count": 86,
   "id": "c2784084",
   "metadata": {},
   "outputs": [],
   "source": [
    "vendor_train = pd.get_dummies(train['vendor_id'], prefix='vi', prefix_sep='_')\n",
    "vendor_val = pd.get_dummies(val['vendor_id'], prefix='vi', prefix_sep='_')\n",
    "passenger_count_train = pd.get_dummies(train['passenger_count'], prefix='pc', prefix_sep='_')\n",
    "passenger_count_val = pd.get_dummies(val['passenger_count'], prefix='pc', prefix_sep='_')\n",
    "store_and_fwd_flag_train = pd.get_dummies(train['store_and_fwd_flag'], prefix='sf', prefix_sep='_')\n",
    "store_and_fwd_flag_val = pd.get_dummies(val['store_and_fwd_flag'], prefix='sf', prefix_sep='_')\n",
    "\n",
    "\n",
    "month_train = pd.get_dummies(train['month'], prefix='m', prefix_sep='_')\n",
    "month_val = pd.get_dummies(val['month'], prefix='m', prefix_sep='_')\n",
    "dom_train = pd.get_dummies(train['DayofMonth'], prefix='dom', prefix_sep='_')\n",
    "dom_val = pd.get_dummies(val['DayofMonth'], prefix='dom', prefix_sep='_')\n",
    "hour_train = pd.get_dummies(train['Hour'], prefix='h', prefix_sep='_')\n",
    "hour_val = pd.get_dummies(val['Hour'], prefix='h', prefix_sep='_')\n",
    "dow_train = pd.get_dummies(train['dayofweek'], prefix='dow', prefix_sep='_')\n",
    "dow_val = pd.get_dummies(val['dayofweek'], prefix='dow', prefix_sep='_')"
   ]
  },
  {
   "cell_type": "markdown",
   "id": "f201f011",
   "metadata": {},
   "source": [
    "check the output though "
   ]
  },
  {
   "cell_type": "code",
   "execution_count": 87,
   "id": "0db1306e",
   "metadata": {},
   "outputs": [
    {
     "data": {
      "text/plain": [
       "((985141, 2), (229319, 2))"
      ]
     },
     "execution_count": 87,
     "metadata": {},
     "output_type": "execute_result"
    }
   ],
   "source": [
    "vendor_train.shape,vendor_val.shape"
   ]
  },
  {
   "cell_type": "code",
   "execution_count": 88,
   "id": "a49c7271",
   "metadata": {},
   "outputs": [
    {
     "data": {
      "text/plain": [
       "((985141, 7), (229319, 9))"
      ]
     },
     "execution_count": 88,
     "metadata": {},
     "output_type": "execute_result"
    }
   ],
   "source": [
    "passenger_count_train.shape, passenger_count_val.shape"
   ]
  },
  {
   "cell_type": "markdown",
   "id": "3bd21a07",
   "metadata": {},
   "source": [
    "looks like that the `passenger_count` difference between the train and the val, so we need to clean that"
   ]
  },
  {
   "cell_type": "code",
   "execution_count": 89,
   "id": "67e86adf",
   "metadata": {},
   "outputs": [
    {
     "data": {
      "text/html": [
       "<div>\n",
       "<style scoped>\n",
       "    .dataframe tbody tr th:only-of-type {\n",
       "        vertical-align: middle;\n",
       "    }\n",
       "\n",
       "    .dataframe tbody tr th {\n",
       "        vertical-align: top;\n",
       "    }\n",
       "\n",
       "    .dataframe thead th {\n",
       "        text-align: right;\n",
       "    }\n",
       "</style>\n",
       "<table border=\"1\" class=\"dataframe\">\n",
       "  <thead>\n",
       "    <tr style=\"text-align: right;\">\n",
       "      <th></th>\n",
       "      <th>pc_0</th>\n",
       "      <th>pc_1</th>\n",
       "      <th>pc_2</th>\n",
       "      <th>pc_3</th>\n",
       "      <th>pc_4</th>\n",
       "      <th>pc_5</th>\n",
       "      <th>pc_6</th>\n",
       "    </tr>\n",
       "  </thead>\n",
       "  <tbody>\n",
       "    <tr>\n",
       "      <th>0</th>\n",
       "      <td>0</td>\n",
       "      <td>1</td>\n",
       "      <td>0</td>\n",
       "      <td>0</td>\n",
       "      <td>0</td>\n",
       "      <td>0</td>\n",
       "      <td>0</td>\n",
       "    </tr>\n",
       "    <tr>\n",
       "      <th>1</th>\n",
       "      <td>0</td>\n",
       "      <td>1</td>\n",
       "      <td>0</td>\n",
       "      <td>0</td>\n",
       "      <td>0</td>\n",
       "      <td>0</td>\n",
       "      <td>0</td>\n",
       "    </tr>\n",
       "    <tr>\n",
       "      <th>2</th>\n",
       "      <td>0</td>\n",
       "      <td>1</td>\n",
       "      <td>0</td>\n",
       "      <td>0</td>\n",
       "      <td>0</td>\n",
       "      <td>0</td>\n",
       "      <td>0</td>\n",
       "    </tr>\n",
       "    <tr>\n",
       "      <th>3</th>\n",
       "      <td>0</td>\n",
       "      <td>1</td>\n",
       "      <td>0</td>\n",
       "      <td>0</td>\n",
       "      <td>0</td>\n",
       "      <td>0</td>\n",
       "      <td>0</td>\n",
       "    </tr>\n",
       "    <tr>\n",
       "      <th>4</th>\n",
       "      <td>0</td>\n",
       "      <td>1</td>\n",
       "      <td>0</td>\n",
       "      <td>0</td>\n",
       "      <td>0</td>\n",
       "      <td>0</td>\n",
       "      <td>0</td>\n",
       "    </tr>\n",
       "    <tr>\n",
       "      <th>...</th>\n",
       "      <td>...</td>\n",
       "      <td>...</td>\n",
       "      <td>...</td>\n",
       "      <td>...</td>\n",
       "      <td>...</td>\n",
       "      <td>...</td>\n",
       "      <td>...</td>\n",
       "    </tr>\n",
       "    <tr>\n",
       "      <th>229314</th>\n",
       "      <td>0</td>\n",
       "      <td>1</td>\n",
       "      <td>0</td>\n",
       "      <td>0</td>\n",
       "      <td>0</td>\n",
       "      <td>0</td>\n",
       "      <td>0</td>\n",
       "    </tr>\n",
       "    <tr>\n",
       "      <th>229315</th>\n",
       "      <td>0</td>\n",
       "      <td>0</td>\n",
       "      <td>1</td>\n",
       "      <td>0</td>\n",
       "      <td>0</td>\n",
       "      <td>0</td>\n",
       "      <td>0</td>\n",
       "    </tr>\n",
       "    <tr>\n",
       "      <th>229316</th>\n",
       "      <td>0</td>\n",
       "      <td>1</td>\n",
       "      <td>0</td>\n",
       "      <td>0</td>\n",
       "      <td>0</td>\n",
       "      <td>0</td>\n",
       "      <td>0</td>\n",
       "    </tr>\n",
       "    <tr>\n",
       "      <th>229317</th>\n",
       "      <td>0</td>\n",
       "      <td>1</td>\n",
       "      <td>0</td>\n",
       "      <td>0</td>\n",
       "      <td>0</td>\n",
       "      <td>0</td>\n",
       "      <td>0</td>\n",
       "    </tr>\n",
       "    <tr>\n",
       "      <th>229318</th>\n",
       "      <td>0</td>\n",
       "      <td>0</td>\n",
       "      <td>1</td>\n",
       "      <td>0</td>\n",
       "      <td>0</td>\n",
       "      <td>0</td>\n",
       "      <td>0</td>\n",
       "    </tr>\n",
       "  </tbody>\n",
       "</table>\n",
       "<p>229319 rows × 7 columns</p>\n",
       "</div>"
      ],
      "text/plain": [
       "        pc_0  pc_1  pc_2  pc_3  pc_4  pc_5  pc_6\n",
       "0          0     1     0     0     0     0     0\n",
       "1          0     1     0     0     0     0     0\n",
       "2          0     1     0     0     0     0     0\n",
       "3          0     1     0     0     0     0     0\n",
       "4          0     1     0     0     0     0     0\n",
       "...      ...   ...   ...   ...   ...   ...   ...\n",
       "229314     0     1     0     0     0     0     0\n",
       "229315     0     0     1     0     0     0     0\n",
       "229316     0     1     0     0     0     0     0\n",
       "229317     0     1     0     0     0     0     0\n",
       "229318     0     0     1     0     0     0     0\n",
       "\n",
       "[229319 rows x 7 columns]"
      ]
     },
     "execution_count": 89,
     "metadata": {},
     "output_type": "execute_result"
    }
   ],
   "source": [
    "passenger_count_val = passenger_count_val.drop('pc_7', axis = 1)\n",
    "passenger_count_val = passenger_count_val.drop('pc_8', axis = 1)\n",
    "\n",
    "passenger_count_val"
   ]
  },
  {
   "cell_type": "code",
   "execution_count": 90,
   "id": "92ad93ab",
   "metadata": {},
   "outputs": [
    {
     "data": {
      "text/plain": [
       "((985141, 7), (229319, 7))"
      ]
     },
     "execution_count": 90,
     "metadata": {},
     "output_type": "execute_result"
    }
   ],
   "source": [
    "passenger_count_train.shape, passenger_count_val.shape"
   ]
  },
  {
   "cell_type": "code",
   "execution_count": 91,
   "id": "7660079a",
   "metadata": {},
   "outputs": [
    {
     "data": {
      "text/plain": [
       "((985141, 2), (229319, 2))"
      ]
     },
     "execution_count": 91,
     "metadata": {},
     "output_type": "execute_result"
    }
   ],
   "source": [
    "store_and_fwd_flag_train.shape,store_and_fwd_flag_val.shape"
   ]
  },
  {
   "cell_type": "code",
   "execution_count": 92,
   "id": "fe76014d",
   "metadata": {},
   "outputs": [
    {
     "data": {
      "text/plain": [
       "((985141, 6), (229319, 6))"
      ]
     },
     "execution_count": 92,
     "metadata": {},
     "output_type": "execute_result"
    }
   ],
   "source": [
    "month_train.shape,month_val.shape"
   ]
  },
  {
   "cell_type": "code",
   "execution_count": 93,
   "id": "ba559070",
   "metadata": {},
   "outputs": [
    {
     "data": {
      "text/plain": [
       "((985141, 31), (229319, 31))"
      ]
     },
     "execution_count": 93,
     "metadata": {},
     "output_type": "execute_result"
    }
   ],
   "source": [
    "dom_train.shape,dom_val.shape"
   ]
  },
  {
   "cell_type": "code",
   "execution_count": 94,
   "id": "e1956c95",
   "metadata": {},
   "outputs": [
    {
     "data": {
      "text/plain": [
       "((985141, 24), (229319, 24))"
      ]
     },
     "execution_count": 94,
     "metadata": {},
     "output_type": "execute_result"
    }
   ],
   "source": [
    "hour_train.shape,hour_val.shape"
   ]
  },
  {
   "cell_type": "code",
   "execution_count": 95,
   "id": "ea406ec9",
   "metadata": {},
   "outputs": [
    {
     "data": {
      "text/plain": [
       "((985141, 7), (229319, 7))"
      ]
     },
     "execution_count": 95,
     "metadata": {},
     "output_type": "execute_result"
    }
   ],
   "source": [
    "dow_train.shape,dow_val.shape"
   ]
  },
  {
   "cell_type": "markdown",
   "id": "bcc24673",
   "metadata": {},
   "source": [
    "The last step is to drop the columns that we encoded it."
   ]
  },
  {
   "cell_type": "code",
   "execution_count": 96,
   "id": "f459e278",
   "metadata": {},
   "outputs": [
    {
     "data": {
      "text/plain": [
       "<bound method NDFrame.head of                id  vendor_id     pickup_datetime    dropoff_datetime  \\\n",
       "0       id2793718          2 2016-06-08 07:36:19 2016-06-08 07:53:39   \n",
       "1       id3485529          2 2016-04-03 12:58:11 2016-04-03 13:11:58   \n",
       "2       id1816614          2 2016-06-05 02:49:13 2016-06-05 02:59:27   \n",
       "3       id1050851          2 2016-05-05 17:18:27 2016-05-05 17:32:54   \n",
       "4       id0140657          1 2016-05-12 17:43:38 2016-05-12 19:06:25   \n",
       "...           ...        ...                 ...                 ...   \n",
       "999995  id2875371          2 2016-03-25 15:48:58 2016-03-25 15:53:12   \n",
       "999996  id1038420          2 2016-05-04 19:36:44 2016-05-04 19:43:58   \n",
       "999997  id3238884          2 2016-05-19 08:50:41 2016-05-19 09:12:27   \n",
       "999998  id3652642          2 2016-04-04 14:37:59 2016-04-04 15:16:36   \n",
       "999999  id0887693          2 2016-02-24 11:30:56 2016-02-24 11:51:03   \n",
       "\n",
       "        passenger_count  pickup_longitude  pickup_latitude  dropoff_longitude  \\\n",
       "0                     1           -73.986           40.736            -73.980   \n",
       "1                     1           -73.978           40.764            -73.992   \n",
       "2                     5           -73.989           40.744            -73.973   \n",
       "3                     2           -73.990           40.731            -73.991   \n",
       "4                     4           -73.789           40.647            -73.987   \n",
       "...                 ...               ...              ...                ...   \n",
       "999995                1           -73.959           40.772            -73.954   \n",
       "999996                1           -73.971           40.764            -73.956   \n",
       "999997                2           -73.982           40.771            -73.971   \n",
       "999998                6           -73.983           40.766            -74.006   \n",
       "999999                1           -73.971           40.761            -73.992   \n",
       "\n",
       "        dropoff_latitude store_and_fwd_flag  trip_duration pickup_date  \\\n",
       "0                 40.760                  N           1040  2016-06-08   \n",
       "1                 40.750                  N            827  2016-04-03   \n",
       "2                 40.749                  N            614  2016-06-05   \n",
       "3                 40.749                  N            867  2016-05-05   \n",
       "4                 40.759                  N           4967  2016-05-12   \n",
       "...                  ...                ...            ...         ...   \n",
       "999995            40.786                  N            254  2016-03-25   \n",
       "999996            40.778                  N            434  2016-05-04   \n",
       "999997            40.759                  N           1306  2016-05-19   \n",
       "999998            40.712                  N           2317  2016-04-04   \n",
       "999999            40.735                  N           1207  2016-02-24   \n",
       "\n",
       "        log_trip_duration  distance_haversine  distance_dummy_manhattan  \\\n",
       "0                   6.948               2.763                     3.172   \n",
       "1                   6.719               1.959                     2.726   \n",
       "2                   6.422               1.405                     1.799   \n",
       "3                   6.766               1.979                     2.056   \n",
       "4                   8.511              20.838                    29.190   \n",
       "...                   ...                 ...                       ...   \n",
       "999995              5.541               1.673                     2.047   \n",
       "999996              6.075               1.977                     2.781   \n",
       "999997              7.175               1.670                     2.327   \n",
       "999998              7.748               6.289                     7.946   \n",
       "999999              7.097               3.462                     4.746   \n",
       "\n",
       "        direction  month  DayofMonth  Hour  dayofweek  \n",
       "0           9.261      6           8     7          2  \n",
       "1        -145.332      4           3    12          6  \n",
       "2          70.081      6           5     2          6  \n",
       "3          -2.290      5           5    17          3  \n",
       "4         -53.021      5          12    17          3  \n",
       "...           ...    ...         ...   ...        ...  \n",
       "999995     14.904      3          25    15          4  \n",
       "999996     38.907      5           4    19          2  \n",
       "999997    144.799      5          19     8          3  \n",
       "999998   -161.674      4           4    14          0  \n",
       "999999   -149.196      2          24    11          2  \n",
       "\n",
       "[985141 rows x 20 columns]>"
      ]
     },
     "execution_count": 96,
     "metadata": {},
     "output_type": "execute_result"
    }
   ],
   "source": [
    "train.head"
   ]
  },
  {
   "cell_type": "code",
   "execution_count": 97,
   "id": "c621d992",
   "metadata": {},
   "outputs": [],
   "source": [
    "train = train.drop(['id','vendor_id','passenger_count','store_and_fwd_flag','month','DayofMonth','Hour','dayofweek',\n",
    "                   'pickup_longitude','pickup_latitude','dropoff_longitude','dropoff_latitude','pickup_datetime','pickup_date','log_trip_duration','dropoff_datetime'],axis = 1)\n",
    "val_id = val['id']\n",
    "val = val.drop(['id','vendor_id','passenger_count','store_and_fwd_flag','month','DayofMonth','Hour','dayofweek',\n",
    "                   'pickup_longitude','pickup_latitude','dropoff_longitude','dropoff_latitude','pickup_datetime','pickup_date','log_trip_duration','dropoff_datetime'], axis = 1)\n"
   ]
  },
  {
   "cell_type": "code",
   "execution_count": 98,
   "id": "f249d930",
   "metadata": {},
   "outputs": [
    {
     "data": {
      "text/html": [
       "<div>\n",
       "<style scoped>\n",
       "    .dataframe tbody tr th:only-of-type {\n",
       "        vertical-align: middle;\n",
       "    }\n",
       "\n",
       "    .dataframe tbody tr th {\n",
       "        vertical-align: top;\n",
       "    }\n",
       "\n",
       "    .dataframe thead th {\n",
       "        text-align: right;\n",
       "    }\n",
       "</style>\n",
       "<table border=\"1\" class=\"dataframe\">\n",
       "  <thead>\n",
       "    <tr style=\"text-align: right;\">\n",
       "      <th></th>\n",
       "      <th>trip_duration</th>\n",
       "      <th>distance_haversine</th>\n",
       "      <th>distance_dummy_manhattan</th>\n",
       "      <th>direction</th>\n",
       "    </tr>\n",
       "  </thead>\n",
       "  <tbody>\n",
       "    <tr>\n",
       "      <th>0</th>\n",
       "      <td>1040</td>\n",
       "      <td>2.763</td>\n",
       "      <td>3.172</td>\n",
       "      <td>9.261</td>\n",
       "    </tr>\n",
       "    <tr>\n",
       "      <th>1</th>\n",
       "      <td>827</td>\n",
       "      <td>1.959</td>\n",
       "      <td>2.726</td>\n",
       "      <td>-145.332</td>\n",
       "    </tr>\n",
       "    <tr>\n",
       "      <th>2</th>\n",
       "      <td>614</td>\n",
       "      <td>1.405</td>\n",
       "      <td>1.799</td>\n",
       "      <td>70.081</td>\n",
       "    </tr>\n",
       "    <tr>\n",
       "      <th>3</th>\n",
       "      <td>867</td>\n",
       "      <td>1.979</td>\n",
       "      <td>2.056</td>\n",
       "      <td>-2.290</td>\n",
       "    </tr>\n",
       "    <tr>\n",
       "      <th>4</th>\n",
       "      <td>4967</td>\n",
       "      <td>20.838</td>\n",
       "      <td>29.190</td>\n",
       "      <td>-53.021</td>\n",
       "    </tr>\n",
       "    <tr>\n",
       "      <th>...</th>\n",
       "      <td>...</td>\n",
       "      <td>...</td>\n",
       "      <td>...</td>\n",
       "      <td>...</td>\n",
       "    </tr>\n",
       "    <tr>\n",
       "      <th>999995</th>\n",
       "      <td>254</td>\n",
       "      <td>1.673</td>\n",
       "      <td>2.047</td>\n",
       "      <td>14.904</td>\n",
       "    </tr>\n",
       "    <tr>\n",
       "      <th>999996</th>\n",
       "      <td>434</td>\n",
       "      <td>1.977</td>\n",
       "      <td>2.781</td>\n",
       "      <td>38.907</td>\n",
       "    </tr>\n",
       "    <tr>\n",
       "      <th>999997</th>\n",
       "      <td>1306</td>\n",
       "      <td>1.670</td>\n",
       "      <td>2.327</td>\n",
       "      <td>144.799</td>\n",
       "    </tr>\n",
       "    <tr>\n",
       "      <th>999998</th>\n",
       "      <td>2317</td>\n",
       "      <td>6.289</td>\n",
       "      <td>7.946</td>\n",
       "      <td>-161.674</td>\n",
       "    </tr>\n",
       "    <tr>\n",
       "      <th>999999</th>\n",
       "      <td>1207</td>\n",
       "      <td>3.462</td>\n",
       "      <td>4.746</td>\n",
       "      <td>-149.196</td>\n",
       "    </tr>\n",
       "  </tbody>\n",
       "</table>\n",
       "<p>985141 rows × 4 columns</p>\n",
       "</div>"
      ],
      "text/plain": [
       "        trip_duration  distance_haversine  distance_dummy_manhattan  direction\n",
       "0                1040               2.763                     3.172      9.261\n",
       "1                 827               1.959                     2.726   -145.332\n",
       "2                 614               1.405                     1.799     70.081\n",
       "3                 867               1.979                     2.056     -2.290\n",
       "4                4967              20.838                    29.190    -53.021\n",
       "...               ...                 ...                       ...        ...\n",
       "999995            254               1.673                     2.047     14.904\n",
       "999996            434               1.977                     2.781     38.907\n",
       "999997           1306               1.670                     2.327    144.799\n",
       "999998           2317               6.289                     7.946   -161.674\n",
       "999999           1207               3.462                     4.746   -149.196\n",
       "\n",
       "[985141 rows x 4 columns]"
      ]
     },
     "execution_count": 98,
     "metadata": {},
     "output_type": "execute_result"
    }
   ],
   "source": [
    "train"
   ]
  },
  {
   "cell_type": "code",
   "execution_count": 99,
   "id": "5b3ffa29",
   "metadata": {},
   "outputs": [
    {
     "data": {
      "text/html": [
       "<div>\n",
       "<style scoped>\n",
       "    .dataframe tbody tr th:only-of-type {\n",
       "        vertical-align: middle;\n",
       "    }\n",
       "\n",
       "    .dataframe tbody tr th {\n",
       "        vertical-align: top;\n",
       "    }\n",
       "\n",
       "    .dataframe thead th {\n",
       "        text-align: right;\n",
       "    }\n",
       "</style>\n",
       "<table border=\"1\" class=\"dataframe\">\n",
       "  <thead>\n",
       "    <tr style=\"text-align: right;\">\n",
       "      <th></th>\n",
       "      <th>trip_duration</th>\n",
       "      <th>distance_haversine</th>\n",
       "      <th>distance_dummy_manhattan</th>\n",
       "      <th>direction</th>\n",
       "    </tr>\n",
       "  </thead>\n",
       "  <tbody>\n",
       "    <tr>\n",
       "      <th>0</th>\n",
       "      <td>1249</td>\n",
       "      <td>4.661</td>\n",
       "      <td>6.035</td>\n",
       "      <td>21.252</td>\n",
       "    </tr>\n",
       "    <tr>\n",
       "      <th>1</th>\n",
       "      <td>817</td>\n",
       "      <td>2.058</td>\n",
       "      <td>2.709</td>\n",
       "      <td>66.393</td>\n",
       "    </tr>\n",
       "    <tr>\n",
       "      <th>2</th>\n",
       "      <td>366</td>\n",
       "      <td>0.857</td>\n",
       "      <td>0.920</td>\n",
       "      <td>4.385</td>\n",
       "    </tr>\n",
       "    <tr>\n",
       "      <th>3</th>\n",
       "      <td>195</td>\n",
       "      <td>1.324</td>\n",
       "      <td>1.847</td>\n",
       "      <td>-144.348</td>\n",
       "    </tr>\n",
       "    <tr>\n",
       "      <th>4</th>\n",
       "      <td>283</td>\n",
       "      <td>0.719</td>\n",
       "      <td>0.829</td>\n",
       "      <td>-80.422</td>\n",
       "    </tr>\n",
       "    <tr>\n",
       "      <th>...</th>\n",
       "      <td>...</td>\n",
       "      <td>...</td>\n",
       "      <td>...</td>\n",
       "      <td>...</td>\n",
       "    </tr>\n",
       "    <tr>\n",
       "      <th>229314</th>\n",
       "      <td>970</td>\n",
       "      <td>3.127</td>\n",
       "      <td>3.488</td>\n",
       "      <td>7.071</td>\n",
       "    </tr>\n",
       "    <tr>\n",
       "      <th>229315</th>\n",
       "      <td>939</td>\n",
       "      <td>6.081</td>\n",
       "      <td>8.085</td>\n",
       "      <td>25.050</td>\n",
       "    </tr>\n",
       "    <tr>\n",
       "      <th>229316</th>\n",
       "      <td>486</td>\n",
       "      <td>2.203</td>\n",
       "      <td>2.966</td>\n",
       "      <td>27.173</td>\n",
       "    </tr>\n",
       "    <tr>\n",
       "      <th>229317</th>\n",
       "      <td>269</td>\n",
       "      <td>1.336</td>\n",
       "      <td>1.605</td>\n",
       "      <td>-166.845</td>\n",
       "    </tr>\n",
       "    <tr>\n",
       "      <th>229318</th>\n",
       "      <td>515</td>\n",
       "      <td>1.424</td>\n",
       "      <td>1.541</td>\n",
       "      <td>85.074</td>\n",
       "    </tr>\n",
       "  </tbody>\n",
       "</table>\n",
       "<p>229319 rows × 4 columns</p>\n",
       "</div>"
      ],
      "text/plain": [
       "        trip_duration  distance_haversine  distance_dummy_manhattan  direction\n",
       "0                1249               4.661                     6.035     21.252\n",
       "1                 817               2.058                     2.709     66.393\n",
       "2                 366               0.857                     0.920      4.385\n",
       "3                 195               1.324                     1.847   -144.348\n",
       "4                 283               0.719                     0.829    -80.422\n",
       "...               ...                 ...                       ...        ...\n",
       "229314            970               3.127                     3.488      7.071\n",
       "229315            939               6.081                     8.085     25.050\n",
       "229316            486               2.203                     2.966     27.173\n",
       "229317            269               1.336                     1.605   -166.845\n",
       "229318            515               1.424                     1.541     85.074\n",
       "\n",
       "[229319 rows x 4 columns]"
      ]
     },
     "execution_count": 99,
     "metadata": {},
     "output_type": "execute_result"
    }
   ],
   "source": [
    "val"
   ]
  },
  {
   "cell_type": "code",
   "execution_count": 100,
   "id": "82108be2",
   "metadata": {},
   "outputs": [],
   "source": [
    "Train_Master = pd.concat([train,\n",
    "                          vendor_train,\n",
    "                          passenger_count_train,\n",
    "                          store_and_fwd_flag_train,\n",
    "                         month_train,\n",
    "                         dom_train,\n",
    "                          hour_train,\n",
    "                          dow_train\n",
    "                         ], axis=1)"
   ]
  },
  {
   "cell_type": "code",
   "execution_count": 101,
   "id": "a1859dd9",
   "metadata": {},
   "outputs": [],
   "source": [
    "val_master = pd.concat([val, \n",
    "                         vendor_val,\n",
    "                         passenger_count_val,\n",
    "                         store_and_fwd_flag_val,\n",
    "                         month_val,\n",
    "                         dom_val,\n",
    "                          hour_val,\n",
    "                          dow_val], axis=1)"
   ]
  },
  {
   "cell_type": "code",
   "execution_count": 102,
   "id": "d5a3b910",
   "metadata": {},
   "outputs": [
    {
     "data": {
      "text/plain": [
       "Index(['trip_duration', 'distance_haversine', 'distance_dummy_manhattan',\n",
       "       'direction', 'vi_1', 'vi_2', 'pc_0', 'pc_1', 'pc_2', 'pc_3', 'pc_4',\n",
       "       'pc_5', 'pc_6', 'sf_N', 'sf_Y', 'm_1', 'm_2', 'm_3', 'm_4', 'm_5',\n",
       "       'm_6', 'dom_1', 'dom_2', 'dom_3', 'dom_4', 'dom_5', 'dom_6', 'dom_7',\n",
       "       'dom_8', 'dom_9', 'dom_10', 'dom_11', 'dom_12', 'dom_13', 'dom_14',\n",
       "       'dom_15', 'dom_16', 'dom_17', 'dom_18', 'dom_19', 'dom_20', 'dom_21',\n",
       "       'dom_22', 'dom_23', 'dom_24', 'dom_25', 'dom_26', 'dom_27', 'dom_28',\n",
       "       'dom_29', 'dom_30', 'dom_31', 'h_0', 'h_1', 'h_2', 'h_3', 'h_4', 'h_5',\n",
       "       'h_6', 'h_7', 'h_8', 'h_9', 'h_10', 'h_11', 'h_12', 'h_13', 'h_14',\n",
       "       'h_15', 'h_16', 'h_17', 'h_18', 'h_19', 'h_20', 'h_21', 'h_22', 'h_23',\n",
       "       'dow_0', 'dow_1', 'dow_2', 'dow_3', 'dow_4', 'dow_5', 'dow_6'],\n",
       "      dtype='object')"
      ]
     },
     "execution_count": 102,
     "metadata": {},
     "output_type": "execute_result"
    }
   ],
   "source": [
    "Train_Master.columns"
   ]
  },
  {
   "cell_type": "code",
   "execution_count": 103,
   "id": "1a0771f9",
   "metadata": {},
   "outputs": [
    {
     "data": {
      "text/plain": [
       "(None, None)"
      ]
     },
     "execution_count": 103,
     "metadata": {},
     "output_type": "execute_result"
    }
   ],
   "source": [
    "Train_Master.to_csv('new_train.csv',index=False),val_master.to_csv('new_val.csv',index=False)"
   ]
  },
  {
   "cell_type": "markdown",
   "id": "c5c0444b",
   "metadata": {},
   "source": [
    "For now we finshed the EDA to understand the data and that's the time for the model"
   ]
  }
 ],
 "metadata": {
  "kernelspec": {
   "display_name": "Python 3 (ipykernel)",
   "language": "python",
   "name": "python3"
  },
  "language_info": {
   "codemirror_mode": {
    "name": "ipython",
    "version": 3
   },
   "file_extension": ".py",
   "mimetype": "text/x-python",
   "name": "python",
   "nbconvert_exporter": "python",
   "pygments_lexer": "ipython3",
   "version": "3.11.3"
  }
 },
 "nbformat": 4,
 "nbformat_minor": 5
}
